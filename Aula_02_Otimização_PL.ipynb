{
  "nbformat": 4,
  "nbformat_minor": 0,
  "metadata": {
    "colab": {
      "provenance": []
    },
    "kernelspec": {
      "name": "python3",
      "display_name": "Python 3"
    },
    "language_info": {
      "name": "python"
    }
  },
  "cells": [
    {
      "cell_type": "markdown",
      "source": [
        "**prof: Sérgio Assunção Monteiro, DSc**\n",
        "\n",
        "**Introdução à Otimização**"
      ],
      "metadata": {
        "id": "SlriScz9ofv5"
      }
    },
    {
      "cell_type": "code",
      "source": [
        "import numpy as np\n",
        "from scipy.optimize import linprog"
      ],
      "metadata": {
        "id": "u4JnXj6MpYcv"
      },
      "execution_count": 1,
      "outputs": []
    },
    {
      "cell_type": "code",
      "source": [
        "def resolverPL(c, A_eq, b_eq, A_ub, b_ub):\n",
        "    res = linprog(c, A_eq=A_eq, b_eq=b_eq, A_ub=A_ub, b_ub=b_ub,\n",
        "                  bounds=(0, None))\n",
        "    return res"
      ],
      "metadata": {
        "id": "slWujbTypUg-"
      },
      "execution_count": 2,
      "outputs": []
    },
    {
      "cell_type": "markdown",
      "source": [
        "https://docs.scipy.org/doc/scipy/reference/generated/scipy.optimize.linprog.html"
      ],
      "metadata": {
        "id": "WI2NXgWfBUIU"
      }
    },
    {
      "cell_type": "code",
      "source": [
        "def exemploT01():\n",
        "    A_ub = np.array([[1,1,1,0,0,0,0,0,0],\n",
        "     [0,0,0,1,1,1,0,0,0],\n",
        "     [0,0,0,0,0,0,1,1,1],\n",
        "     [5.5,4,3.5,0,0,0,0,0,0],\n",
        "     [0,0,0,5.5,4,3.5,0,0,0],\n",
        "     [0,0,0,0,0,0,5.5,4,3.5],\n",
        "     [1,0,0,1,0,0,1,0,0],\n",
        "     [0,1,0,0,1,0,0,1,0],\n",
        "     [0,0,1,0,0,1,0,0,1],])\n",
        "    b_ub = np.array([400,650,350,1800,2200,950,660,880,400])\n",
        "    A_eq = np.array([[1/400,1/400,1/400,-1/650,-1/650,-1/650,0,0,0]])\n",
        "    b_eq = np.array([0])\n",
        "    c = -np.array([5000, 4000, 1800,5000, 4000, 1800,5000, 4000, 1800])\n",
        "    return c, A_eq, b_eq, A_ub, b_ub"
      ],
      "metadata": {
        "id": "WC0gt0wkANRt"
      },
      "execution_count": 4,
      "outputs": []
    },
    {
      "cell_type": "code",
      "source": [
        "[c, A_eq, b_eq, A_ub, b_ub]=exemploT01();\n",
        "resultado=resolverPL(c, A_eq, b_eq, A_ub, b_ub); #resolver PL"
      ],
      "metadata": {
        "id": "eo1x-QByCqUE"
      },
      "execution_count": 5,
      "outputs": []
    },
    {
      "cell_type": "code",
      "source": [
        "print('Valor otimo:', resultado.fun)"
      ],
      "metadata": {
        "colab": {
          "base_uri": "https://localhost:8080/"
        },
        "id": "sQlinuw-CyMz",
        "outputId": "944e7215-3a85-4528-ae06-ad0cb4784e2a"
      },
      "execution_count": 6,
      "outputs": [
        {
          "output_type": "stream",
          "name": "stdout",
          "text": [
            "Valor otimo: -4801282.051282053\n"
          ]
        }
      ]
    },
    {
      "cell_type": "code",
      "source": [
        "print(\"Os valores de x sao:\");\n",
        "nelem=len(resultado.x)\n",
        "for i in range(nelem):\n",
        "    print(\"x[\",i+1,\"]=\",resultado.x[i])"
      ],
      "metadata": {
        "colab": {
          "base_uri": "https://localhost:8080/"
        },
        "id": "c94x1UjHC0lr",
        "outputId": "3dc7b0a6-cfd5-43dc-b24d-f222413681a0"
      },
      "execution_count": 7,
      "outputs": [
        {
          "output_type": "stream",
          "name": "stdout",
          "text": [
            "Os valores de x sao:\n",
            "x[ 1 ]= 297.4358974358971\n",
            "x[ 2 ]= 41.025641025641235\n",
            "x[ 3 ]= 0.0\n",
            "x[ 4 ]= 0.0\n",
            "x[ 5 ]= 550.0000000000001\n",
            "x[ 6 ]= 0.0\n",
            "x[ 7 ]= 0.0\n",
            "x[ 8 ]= 237.50000000000034\n",
            "x[ 9 ]= 0.0\n"
          ]
        }
      ]
    }
  ]
}