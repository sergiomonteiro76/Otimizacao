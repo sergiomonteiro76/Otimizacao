{
  "nbformat": 4,
  "nbformat_minor": 0,
  "metadata": {
    "colab": {
      "provenance": [],
      "collapsed_sections": [
        "LxZb8lF8eJac",
        "UH3bVSOUjrF_"
      ]
    },
    "kernelspec": {
      "name": "python3",
      "display_name": "Python 3"
    },
    "language_info": {
      "name": "python"
    }
  },
  "cells": [
    {
      "cell_type": "markdown",
      "source": [
        "**prof: Sérgio Assunção Monteiro, DSc**\n",
        "\n",
        "**Introdução à Otimização**"
      ],
      "metadata": {
        "id": "dBPcTzBUdizV"
      }
    },
    {
      "cell_type": "markdown",
      "source": [
        "**Pacote:**linprog\n",
        "\n",
        "**url:** https://docs.scipy.org/doc/scipy/reference/generated/scipy.optimize.linprog.html"
      ],
      "metadata": {
        "id": "J8knkPwpjLgE"
      }
    },
    {
      "cell_type": "markdown",
      "source": [
        "![Otimização.jpg](data:image/jpeg;base64,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)"
      ],
      "metadata": {
        "id": "l31HbpJDHhlA"
      }
    },
    {
      "cell_type": "markdown",
      "source": [
        "#**Restrições de Igualdade**"
      ],
      "metadata": {
        "id": "LxZb8lF8eJac"
      }
    },
    {
      "cell_type": "code",
      "execution_count": null,
      "metadata": {
        "id": "-eNzotyHdiI5"
      },
      "outputs": [],
      "source": [
        "import numpy as np\n",
        "from scipy.optimize import linprog\n",
        "from numpy.linalg import solve"
      ]
    },
    {
      "cell_type": "code",
      "source": [
        "def resolverPLIgualdade(c, A_eq, b_eq):\n",
        "    res = linprog(c, A_eq=A_eq, b_eq=b_eq,\n",
        "                  bounds=(0, None))\n",
        "    return res"
      ],
      "metadata": {
        "id": "RSEjDQIDeRur"
      },
      "execution_count": null,
      "outputs": []
    },
    {
      "cell_type": "markdown",
      "source": [
        "**minimize** 70x_1 + 80x_2 +85x_3\n",
        ">  **s.a.**\n",
        "\n",
        ">        x_1 + x_2 + x_3      = 100\n",
        "\n",
        ">        x_1 + 4x_2 + 2x_3   = 235\n",
        "\n",
        ">       3x_1 - x_2 + 4x_3   = 225\n",
        "\n",
        ">        x >= 0\n"
      ],
      "metadata": {
        "id": "XNhr9czjdltN"
      }
    },
    {
      "cell_type": "code",
      "source": [
        "def exemploI01():\n",
        "    A_eq = np.array([[1,1,1],\n",
        "                     [1,4,2],\n",
        "                     [3,-1,4]])\n",
        "    b_eq = np.array([100, 235, 225])\n",
        "    c = np.array([70, 80, 85])\n",
        "    return c, A_eq, b_eq"
      ],
      "metadata": {
        "id": "jzyysZ58eVIr"
      },
      "execution_count": null,
      "outputs": []
    },
    {
      "cell_type": "markdown",
      "source": [
        "**minimize** x_1 + 10x_2 -x_3\n",
        ">  **s.a.**\n",
        "\n",
        ">        x_1 + x_2 + x_3      = 100\n",
        "\n",
        ">        x_1 - 3x_2 + 2x_3   = 25\n",
        "\n",
        ">        x >= 0\n"
      ],
      "metadata": {
        "id": "R_WTK_90iMCm"
      }
    },
    {
      "cell_type": "code",
      "source": [
        "def exemploI02():\n",
        "    A_eq = np.array([[1,1,1],\n",
        "                     [1,-3,2]])\n",
        "    b_eq = np.array([100, 25])\n",
        "    c = np.array([1, 10, -1])\n",
        "    return c, A_eq, b_eq"
      ],
      "metadata": {
        "id": "_eTXxUtXiwu0"
      },
      "execution_count": null,
      "outputs": []
    },
    {
      "cell_type": "code",
      "source": [
        "def carrega_instancia_igualdade(opcao):\n",
        "  if(opcao==1):\n",
        "    return exemploI01()\n",
        "  else:\n",
        "    return exemploI02()"
      ],
      "metadata": {
        "id": "RaBm08-ChAhY"
      },
      "execution_count": null,
      "outputs": []
    },
    {
      "cell_type": "code",
      "source": [
        "id_instancia = 1;\n",
        "[c, A_eq, b_eq]=carrega_instancia_igualdade(id_instancia);\n",
        "resultado=resolverPLIgualdade(c, A_eq, b_eq); #resolver PL\n",
        "print('Valor otimo:', resultado.fun)\n",
        "print(\"Os valores de x sao:\");\n",
        "nelem=len(resultado.x)\n",
        "for i in range(nelem):\n",
        "    print(\"x[\",i+1,\"]=\",resultado.x[i])"
      ],
      "metadata": {
        "colab": {
          "base_uri": "https://localhost:8080/"
        },
        "id": "RrgnLGNiht-_",
        "outputId": "6c6ec532-1e2b-47f3-bcf0-ac8d769dbaa2"
      },
      "execution_count": null,
      "outputs": [
        {
          "output_type": "stream",
          "name": "stdout",
          "text": [
            "Valor otimo: 7974.9999922020415\n",
            "Os valores de x sao:\n",
            "x[ 1 ]= 24.999999975823386\n",
            "x[ 2 ]= 29.999999970782795\n",
            "x[ 3 ]= 44.99999995566801\n"
          ]
        },
        {
          "output_type": "stream",
          "name": "stderr",
          "text": [
            "/usr/local/lib/python3.7/dist-packages/numpy/core/fromnumeric.py:87: VisibleDeprecationWarning: Creating an ndarray from ragged nested sequences (which is a list-or-tuple of lists-or-tuples-or ndarrays with different lengths or shapes) is deprecated. If you meant to do this, you must specify 'dtype=object' when creating the ndarray\n",
            "  return ufunc.reduce(obj, axis, dtype, out, **passkwargs)\n"
          ]
        }
      ]
    },
    {
      "cell_type": "markdown",
      "source": [
        "#**Restrições de Desigualdade**"
      ],
      "metadata": {
        "id": "UH3bVSOUjrF_"
      }
    },
    {
      "cell_type": "code",
      "source": [
        "import numpy as np\n",
        "from scipy.optimize import linprog\n",
        "from numpy.linalg import solve"
      ],
      "metadata": {
        "id": "00UeVdArjvsb"
      },
      "execution_count": null,
      "outputs": []
    },
    {
      "cell_type": "code",
      "source": [
        "def resolverPLDesigualdade(c, A_ub, b_ub):\n",
        "    res = linprog(c, A_ub=A_ub, b_ub=b_ub,bounds=(0, None))\n",
        "    return res\n"
      ],
      "metadata": {
        "id": "Dh5mMae1j27L"
      },
      "execution_count": null,
      "outputs": []
    },
    {
      "cell_type": "markdown",
      "source": [
        "**minimize** 70x_1 + 80x_2 +85x_3\n",
        ">  **s.a.**\n",
        "\n",
        ">        x_1 + x_2 + x_3      <= 100\n",
        "\n",
        ">        x_1 + 4x_2 + 2x_3   >= 235\n",
        "\n",
        ">        x >= 0\n"
      ],
      "metadata": {
        "id": "gRqKAQbjj7Bs"
      }
    },
    {
      "cell_type": "code",
      "source": [
        "def exemploD01():\n",
        "    A_ub = np.array([[1,1,1],\n",
        "                     [-1,-4,-2]])\n",
        "    b_ub = np.array([100, -235])\n",
        "    c = np.array([70, 80, 85])\n",
        "    return c, A_ub, b_ub"
      ],
      "metadata": {
        "id": "KWhBxIInkQrE"
      },
      "execution_count": null,
      "outputs": []
    },
    {
      "cell_type": "markdown",
      "source": [
        "**minimize** x_1 + 10x_2 -x_3\n",
        ">  **s.a.**\n",
        "\n",
        ">        x_1 + x_2 + x_3      >= 100\n",
        "\n",
        ">        x_1 - 3x_2 + 2x_3   <= 25\n",
        "\n",
        ">        x >= 0\n"
      ],
      "metadata": {
        "id": "nVIoIT7_kbI4"
      }
    },
    {
      "cell_type": "code",
      "source": [
        "def exemploD02():\n",
        "    A_ub = np.array([[-1,-1,-1],\n",
        "                     [1,-3,2]])\n",
        "    b_ub = np.array([-100, 25])\n",
        "    c = np.array([1, 10, -1])\n",
        "    return c, A_ub, b_ub"
      ],
      "metadata": {
        "id": "a6k-xf7gkfVm"
      },
      "execution_count": null,
      "outputs": []
    },
    {
      "cell_type": "code",
      "source": [
        "def carrega_instancia_desigualdade(opcao):\n",
        "  if(opcao==1):\n",
        "    return exemploD01()\n",
        "  else:\n",
        "    return exemploD02()"
      ],
      "metadata": {
        "id": "l9BMnALtkjV5"
      },
      "execution_count": null,
      "outputs": []
    },
    {
      "cell_type": "code",
      "source": [
        "id_instancia = 1;\n",
        "[c, A_ub, b_ub]=carrega_instancia_desigualdade(id_instancia);\n",
        "resultado=resolverPLDesigualdade(c, A_ub, b_ub); #resolver PL\n",
        "print('Valor otimo:', resultado.fun)\n",
        "print(\"Os valores de x sao:\");\n",
        "nelem=len(resultado.x)\n",
        "for i in range(nelem):\n",
        "    print(\"x[\",i+1,\"]=\",resultado.x[i])"
      ],
      "metadata": {
        "id": "2qRe6sOHkm3p",
        "colab": {
          "base_uri": "https://localhost:8080/"
        },
        "outputId": "5da88f11-2b60-48da-9fb6-df756adcc974"
      },
      "execution_count": null,
      "outputs": [
        {
          "output_type": "stream",
          "name": "stdout",
          "text": [
            "Valor otimo: 4699.999956093867\n",
            "Os valores de x sao:\n",
            "x[ 1 ]= 1.905540009790843e-08\n",
            "x[ 2 ]= 58.74999942920543\n",
            "x[ 3 ]= 4.982990706918271e-09\n"
          ]
        },
        {
          "output_type": "stream",
          "name": "stderr",
          "text": [
            "/usr/local/lib/python3.7/dist-packages/numpy/core/fromnumeric.py:87: VisibleDeprecationWarning: Creating an ndarray from ragged nested sequences (which is a list-or-tuple of lists-or-tuples-or ndarrays with different lengths or shapes) is deprecated. If you meant to do this, you must specify 'dtype=object' when creating the ndarray\n",
            "  return ufunc.reduce(obj, axis, dtype, out, **passkwargs)\n"
          ]
        }
      ]
    },
    {
      "cell_type": "markdown",
      "source": [
        "#**Restrições de Igualdade e Desigualdade**"
      ],
      "metadata": {
        "id": "0mE_INefDg0J"
      }
    },
    {
      "cell_type": "code",
      "source": [
        "import numpy as np\n",
        "from scipy.optimize import linprog\n",
        "from numpy.linalg import solve"
      ],
      "metadata": {
        "id": "Vo9YjbOcDj7_"
      },
      "execution_count": null,
      "outputs": []
    },
    {
      "cell_type": "code",
      "source": [
        "def resolverPL(c, A_eq, b_eq, A_ub, b_ub):\n",
        "    res = linprog(c, A_eq=A_eq, b_eq=b_eq, A_ub=A_ub, b_ub=b_ub,\n",
        "                  bounds=(0, None))\n",
        "    return res"
      ],
      "metadata": {
        "id": "aPd0LoepD7aR"
      },
      "execution_count": null,
      "outputs": []
    },
    {
      "cell_type": "markdown",
      "source": [
        "**minimize** 70x_1 + 80x_2 +85x_3\n",
        ">  **s.a.**\n",
        "\n",
        ">        x_1 + x_2 + x_3      <= 100\n",
        "\n",
        ">        x_1 + 4x_2 + 2x_3   = 235\n",
        "\n",
        ">        x >= 0\n"
      ],
      "metadata": {
        "id": "pm6kV4tgEIea"
      }
    },
    {
      "cell_type": "code",
      "source": [
        "def exemploT01():\n",
        "    A_ub = np.array([[1,1,1]])\n",
        "    b_ub = np.array([100])\n",
        "    A_eq = np.array([[1,4,2]])\n",
        "    b_eq = np.array([235])\n",
        "    c = np.array([70, 80, 85])\n",
        "    return c, A_eq, b_eq, A_ub, b_ub"
      ],
      "metadata": {
        "id": "1iREiOteELrt"
      },
      "execution_count": null,
      "outputs": []
    },
    {
      "cell_type": "markdown",
      "source": [
        "**minimize** x_1 + 10x_2 -x_3\n",
        ">  **s.a.**\n",
        "\n",
        ">        x_1 + x_2 + x_3      = 100\n",
        "\n",
        ">        x_1 - 3x_2 + 2x_3   <= 25\n",
        "\n",
        ">        x >= 0\n"
      ],
      "metadata": {
        "id": "jcqfL-RjERQG"
      }
    },
    {
      "cell_type": "code",
      "source": [
        "def exemploT02():\n",
        "    A_eq = np.array([[1,1,1]])\n",
        "    b_eq = np.array([100])\n",
        "    A_ub = np.array([[1,-3,2]])\n",
        "    b_ub = np.array([25])\n",
        "    c = np.array([1, 10, -1])\n",
        "    return c, A_eq, b_eq, A_ub, b_ub"
      ],
      "metadata": {
        "id": "JmbqlM7oEjh-"
      },
      "execution_count": null,
      "outputs": []
    },
    {
      "cell_type": "code",
      "source": [
        "def carrega_instancia_igual_e_desigualdade(opcao):\n",
        "  if(opcao==1):\n",
        "    return exemploT01()\n",
        "  else:\n",
        "    return exemploT02()"
      ],
      "metadata": {
        "id": "fCxH1VsFEZLG"
      },
      "execution_count": null,
      "outputs": []
    },
    {
      "cell_type": "code",
      "source": [
        "id_instancia = 2;\n",
        "[c, A_eq, b_eq, A_ub, b_ub]=carrega_instancia_igual_e_desigualdade(id_instancia);\n",
        "resultado=resolverPL(c, A_eq, b_eq, A_ub, b_ub); #resolver PL\n",
        "print('Valor otimo:', resultado.fun)\n",
        "print(\"Os valores de x sao:\");\n",
        "nelem=len(resultado.x)\n",
        "for i in range(nelem):\n",
        "    print(\"x[\",i+1,\"]=\",resultado.x[i])"
      ],
      "metadata": {
        "colab": {
          "base_uri": "https://localhost:8080/"
        },
        "id": "87gepy-eEwjW",
        "outputId": "8e7f9232-13c9-455a-d18c-154f436da5fa"
      },
      "execution_count": null,
      "outputs": [
        {
          "output_type": "stream",
          "name": "stdout",
          "text": [
            "Valor otimo: 268.7499985100511\n",
            "Os valores de x sao:\n",
            "x[ 1 ]= 81.2499994892018\n",
            "x[ 2 ]= 18.74999990315268\n",
            "x[ 3 ]= 1.0677482125928691e-08\n"
          ]
        },
        {
          "output_type": "stream",
          "name": "stderr",
          "text": [
            "/usr/local/lib/python3.7/dist-packages/numpy/core/fromnumeric.py:87: VisibleDeprecationWarning: Creating an ndarray from ragged nested sequences (which is a list-or-tuple of lists-or-tuples-or ndarrays with different lengths or shapes) is deprecated. If you meant to do this, you must specify 'dtype=object' when creating the ndarray\n",
            "  return ufunc.reduce(obj, axis, dtype, out, **passkwargs)\n"
          ]
        }
      ]
    }
  ]
}